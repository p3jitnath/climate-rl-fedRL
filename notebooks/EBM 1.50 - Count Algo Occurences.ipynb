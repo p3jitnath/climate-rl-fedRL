{
 "cells": [
  {
   "cell_type": "code",
   "execution_count": 3,
   "id": "5af13b89-aed7-49b3-a9ad-c0a05f9dbb27",
   "metadata": {},
   "outputs": [],
   "source": [
    "import csv\n",
    "import os\n",
    "from collections import Counter\n",
    "\n",
    "import pandas as pd\n",
    "from tabulate import tabulate"
   ]
  },
  {
   "cell_type": "code",
   "execution_count": 4,
   "id": "24402515-bcd6-42b8-8112-d1ca096321a0",
   "metadata": {},
   "outputs": [],
   "source": [
    "BASE_DIR = \"/gws/nopw/j04/ai4er/users/pn341/climate-rl-fedrl\"\n",
    "RUNS_DIR = f\"{BASE_DIR}/runs\"\n",
    "TABLES_DIR = f\"{BASE_DIR}/results/tables/\"\n",
    "IMGS_DIR = f\"{BASE_DIR}/results/imgs/\""
   ]
  },
  {
   "cell_type": "code",
   "execution_count": 5,
   "id": "21e81815-ad9e-42e8-989e-a3ad30872d1c",
   "metadata": {},
   "outputs": [],
   "source": [
    "excluded_ids = []"
   ]
  },
  {
   "cell_type": "code",
   "execution_count": 6,
   "id": "62772f25-fc36-4f93-a545-123cabde6b7f",
   "metadata": {},
   "outputs": [
    {
     "name": "stdout",
     "output_type": "stream",
     "text": [
      "ebm-v0-optim-L\t['tqc', 'td3', 'sac']\n",
      "ebm-v0-optim-L-20k\t['tqc', 'sac', 'trpo']\n",
      "ebm-v0-homo-64L\t['tqc', 'sac', 'td3']\n",
      "ebm-v0-homo-64L-20k\t['tqc', 'sac']\n",
      "ebm-v1-optim-L\t['tqc', 'td3', 'ddpg']\n",
      "ebm-v1-optim-L-20k\t['tqc', 'ddpg', 'td3']\n",
      "ebm-v1-homo-64L\t['tqc', 'ddpg', 'td3']\n",
      "ebm-v1-homo-64L-20k\t['tqc', 'ddpg', 'td3']\n"
     ]
    }
   ],
   "source": [
    "top_1_algo_counter = Counter()\n",
    "top_3_algo_counter = Counter()\n",
    "\n",
    "exp_ids = [\n",
    "    \"ebm-v0-optim-L\",\n",
    "    \"ebm-v0-optim-L-20k\",\n",
    "    \"ebm-v0-homo-64L\",\n",
    "    \"ebm-v0-homo-64L-20k\",\n",
    "    \"ebm-v1-optim-L\",\n",
    "    \"ebm-v1-optim-L-20k\",\n",
    "    \"ebm-v1-homo-64L\",\n",
    "    \"ebm-v1-homo-64L-20k\",\n",
    "]\n",
    "\n",
    "top_1_algo_counter = Counter()\n",
    "top_3_algo_counter = Counter()\n",
    "\n",
    "for exp_id in exp_ids:\n",
    "    if exp_id in excluded_ids:\n",
    "        continue\n",
    "\n",
    "    file_path = os.path.join(TABLES_DIR, exp_id + \".csv\")\n",
    "    df = pd.read_csv(file_path)\n",
    "\n",
    "    df = df.dropna()\n",
    "    top_1_algo = df.iloc[0, 0]\n",
    "    top_3_algos = df.iloc[:3, 0].tolist()\n",
    "\n",
    "    print(f\"{exp_id}\\t{top_3_algos}\")\n",
    "\n",
    "    top_1_algo_counter[top_1_algo] += 1\n",
    "    for algo in top_3_algos:\n",
    "        top_3_algo_counter[algo] += 1"
   ]
  },
  {
   "cell_type": "code",
   "execution_count": 7,
   "id": "f3091e3f-e70e-468e-a2c9-3a178571224c",
   "metadata": {},
   "outputs": [],
   "source": [
    "def print_table(df):\n",
    "    print(tabulate(df, headers=\"keys\", tablefmt=\"psql\"))"
   ]
  },
  {
   "cell_type": "code",
   "execution_count": 8,
   "id": "f5cf2fdf-156e-4aea-9323-2a0c641d27a1",
   "metadata": {},
   "outputs": [
    {
     "name": "stdout",
     "output_type": "stream",
     "text": [
      "+----+--------+-------------+\n",
      "|    | algo   |   frequency |\n",
      "|----+--------+-------------|\n",
      "|  0 | tqc    |           8 |\n",
      "+----+--------+-------------+\n"
     ]
    }
   ],
   "source": [
    "top_1_algo_frequencies = top_1_algo_counter.items()\n",
    "top_1_df = pd.DataFrame(top_1_algo_frequencies)\n",
    "top_1_df.columns = [\"algo\", \"frequency\"]\n",
    "top_1_df = top_1_df.sort_values(\"frequency\", ascending=False)\n",
    "top_1_df = top_1_df.reset_index(drop=True)\n",
    "\n",
    "print_table(top_1_df)"
   ]
  },
  {
   "cell_type": "code",
   "execution_count": 9,
   "id": "1fdb3ffb-f98d-4ccd-8fe1-1a8fb0aad32a",
   "metadata": {},
   "outputs": [
    {
     "name": "stdout",
     "output_type": "stream",
     "text": [
      "+----+--------+-------------+\n",
      "|    | algo   |   frequency |\n",
      "|----+--------+-------------|\n",
      "|  0 | tqc    |           8 |\n",
      "|  1 | td3    |           6 |\n",
      "|  2 | sac    |           4 |\n",
      "|  3 | ddpg   |           4 |\n",
      "|  4 | trpo   |           1 |\n",
      "+----+--------+-------------+\n"
     ]
    }
   ],
   "source": [
    "top_3_algo_frequencies = top_3_algo_counter.items()\n",
    "top_3_df = pd.DataFrame(top_3_algo_frequencies)\n",
    "top_3_df.columns = [\"algo\", \"frequency\"]\n",
    "top_3_df = top_3_df.sort_values(\"frequency\", ascending=False)\n",
    "top_3_df = top_3_df.reset_index(drop=True)\n",
    "\n",
    "print_table(top_3_df)"
   ]
  },
  {
   "cell_type": "code",
   "execution_count": null,
   "id": "260799a4-b044-4c5c-9cde-00d071a41a68",
   "metadata": {},
   "outputs": [],
   "source": []
  }
 ],
 "metadata": {
  "kernelspec": {
   "display_name": "Python 3 (ipykernel)",
   "language": "python",
   "name": "python3"
  },
  "language_info": {
   "codemirror_mode": {
    "name": "ipython",
    "version": 3
   },
   "file_extension": ".py",
   "mimetype": "text/x-python",
   "name": "python",
   "nbconvert_exporter": "python",
   "pygments_lexer": "ipython3",
   "version": "3.11.11"
  }
 },
 "nbformat": 4,
 "nbformat_minor": 5
}
