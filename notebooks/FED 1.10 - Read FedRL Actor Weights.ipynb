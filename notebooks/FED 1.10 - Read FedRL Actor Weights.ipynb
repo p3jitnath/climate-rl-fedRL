{
 "cells": [
  {
   "cell_type": "code",
   "execution_count": 1,
   "id": "7c878635-bb95-424d-88c1-0df72865ad3f",
   "metadata": {},
   "outputs": [],
   "source": [
    "import ast\n",
    "import importlib\n",
    "import json\n",
    "import os\n",
    "import pickle\n",
    "import sys\n",
    "from glob import glob\n",
    "from pathlib import Path\n",
    "\n",
    "import climlab\n",
    "import fedrl_climate_envs\n",
    "import gymnasium as gym\n",
    "import matplotlib.pyplot as plt\n",
    "import numpy as np\n",
    "import pandas as pd\n",
    "import torch\n",
    "import tqdm\n",
    "import xarray as xr"
   ]
  },
  {
   "cell_type": "code",
   "execution_count": 2,
   "id": "e5a1dab6-1128-4bb5-bbcf-79a4acc0d72e",
   "metadata": {},
   "outputs": [],
   "source": [
    "BASE_DIR = \"/gws/nopw/j04/ai4er/users/pn341/climate-rl-fedrl\"\n",
    "RECORDS_DIR = f\"{BASE_DIR}/records\"\n",
    "DATASETS_DIR = f\"{BASE_DIR}/datasets\"\n",
    "IMGS_DIR = f\"{BASE_DIR}/results/imgs/\"\n",
    "STEP_COUNT = 20000\n",
    "NUM_STEPS = 200\n",
    "\n",
    "sys.path.append(BASE_DIR)"
   ]
  },
  {
   "cell_type": "code",
   "execution_count": 3,
   "id": "6d095bdc-45f4-4156-a7e8-c1c478f24da1",
   "metadata": {},
   "outputs": [],
   "source": [
    "ENV_ID = \"EnergyBalanceModel-v2\"\n",
    "EXPERIMENT_ID = \"ebm-v2-optim-L-20k-a2-fed05\"\n",
    "OPTIM_GROUP = \"ebm-v1-optim-L-20k\"\n",
    "\n",
    "ALGO = \"ddpg\"\n",
    "SEED = 1\n",
    "CLIENT_ID = 0\n",
    "\n",
    "os.environ[\"INFERENCE\"] = \"1\""
   ]
  },
  {
   "cell_type": "code",
   "execution_count": 4,
   "id": "8578e39d-f96f-4b96-919b-304ab7ba4cb4",
   "metadata": {},
   "outputs": [],
   "source": [
    "def get_make_env(algo):\n",
    "    file_path = Path(f\"{BASE_DIR}/rl-algos/{algo}/main.py\").resolve()\n",
    "    source = file_path.read_text()\n",
    "\n",
    "    parsed = ast.parse(source, filename=str(file_path))\n",
    "    func_defs = [\n",
    "        node\n",
    "        for node in parsed.body\n",
    "        if isinstance(node, ast.FunctionDef) and node.name == \"make_env\"\n",
    "    ]\n",
    "\n",
    "    if not func_defs:\n",
    "        raise ValueError(f\"'make_env' not found in {file_path}\")\n",
    "\n",
    "    make_env_code = ast.Module(body=func_defs, type_ignores=[])\n",
    "    compiled = compile(make_env_code, filename=str(file_path), mode=\"exec\")\n",
    "\n",
    "    local_namespace = {\"gym\": gym, \"np\": np, \"BASE_DIR\": BASE_DIR}\n",
    "    exec(compiled, local_namespace)\n",
    "    return local_namespace[\"make_env\"]\n",
    "\n",
    "\n",
    "def get_actor(algo):\n",
    "    module_path = f\"rl-algos.{algo}.{algo}_actor\"\n",
    "    actor_module = importlib.import_module(module_path)\n",
    "    Actor = getattr(actor_module, \"Actor\")\n",
    "    return Actor\n",
    "\n",
    "\n",
    "def get_agent(algo):\n",
    "    module_path = f\"rl-algos.{algo}.{algo}_agent\"\n",
    "    agent_module = importlib.import_module(module_path)\n",
    "    Agent = getattr(agent_module, \"Agent\")\n",
    "    return Agent"
   ]
  },
  {
   "cell_type": "code",
   "execution_count": 5,
   "id": "8897a1f9-0aa4-408d-bb41-55e7922ed8ad",
   "metadata": {},
   "outputs": [],
   "source": [
    "if \"64L\" in EXPERIMENT_ID:\n",
    "    actor_layer_size = critic_layer_size = 64\n",
    "else:\n",
    "    with open(\n",
    "        f\"{BASE_DIR}/param_tune/results/{OPTIM_GROUP}/best_results.json\",\n",
    "        \"r\",\n",
    "    ) as file:\n",
    "        opt_params = {\n",
    "            k: v\n",
    "            for k, v in json.load(file)[ALGO].items()\n",
    "            if k not in {\"algo\", \"episodic_return\", \"date\"}\n",
    "        }\n",
    "        for key, value in opt_params.items():\n",
    "            if key == \"actor_critic_layer_size\":\n",
    "                actor_layer_size = critic_layer_size = value"
   ]
  },
  {
   "cell_type": "code",
   "execution_count": 6,
   "id": "489b3f2c-5d69-4a24-aec5-7bb1b35d775a",
   "metadata": {},
   "outputs": [],
   "source": [
    "actor_weights_fn = glob(\n",
    "    RECORDS_DIR\n",
    "    + f\"/{EXPERIMENT_ID}_*/*_{ALGO}_torch__{SEED}__*__*/fedrl-weights/actor/*-{STEP_COUNT}.pth\"\n",
    ")[0]"
   ]
  },
  {
   "cell_type": "code",
   "execution_count": 7,
   "id": "65d2191b-4593-400f-89de-f3c8bd5c2e03",
   "metadata": {},
   "outputs": [
    {
     "name": "stdout",
     "output_type": "stream",
     "text": [
      "Loading NCEP surface temperature data ...\n",
      "Loading NCEP surface temperature data ...\n",
      "[RL Env] Environment ID: 0\n",
      "[RL Env] Number of clients: 2\n"
     ]
    },
    {
     "name": "stderr",
     "output_type": "stream",
     "text": [
      "/home/users/p341cam/miniconda3/envs/venv/lib/python3.11/site-packages/gymnasium/envs/registration.py:513: DeprecationWarning: \u001b[33mWARN: The environment EnergyBalanceModel-v2 is out of date. You should consider upgrading to version `v3`.\u001b[0m\n",
      "  logger.deprecation(\n"
     ]
    }
   ],
   "source": [
    "make_env = get_make_env(ALGO)\n",
    "env_args = [\n",
    "    ENV_ID,\n",
    "    SEED,\n",
    "    CLIENT_ID,\n",
    "    0,\n",
    "    False,\n",
    "    \"test\",\n",
    "]\n",
    "if ALGO in [\"ppo\", \"trpo\"]:\n",
    "    env_args = env_args + [0.99, 10]\n",
    "else:\n",
    "    env_args = env_args + [10]\n",
    "envs = gym.vector.SyncVectorEnv([make_env(*env_args)])"
   ]
  },
  {
   "cell_type": "code",
   "execution_count": 8,
   "id": "1d8213ba-c594-43bd-b549-c2fc1ea6dec5",
   "metadata": {},
   "outputs": [
    {
     "data": {
      "text/plain": [
       "<All keys matched successfully>"
      ]
     },
     "execution_count": 8,
     "metadata": {},
     "output_type": "execute_result"
    }
   ],
   "source": [
    "Actor = get_actor(ALGO)\n",
    "actor = Actor(envs, actor_layer_size).to(\"cpu\")\n",
    "actor_weights = torch.load(actor_weights_fn)\n",
    "actor.load_state_dict(actor_weights)"
   ]
  },
  {
   "cell_type": "code",
   "execution_count": null,
   "id": "9d9d4e8d-8186-40c2-9c00-7376e84799a9",
   "metadata": {},
   "outputs": [],
   "source": []
  }
 ],
 "metadata": {
  "kernelspec": {
   "display_name": "Python 3 (ipykernel)",
   "language": "python",
   "name": "python3"
  },
  "language_info": {
   "codemirror_mode": {
    "name": "ipython",
    "version": 3
   },
   "file_extension": ".py",
   "mimetype": "text/x-python",
   "name": "python",
   "nbconvert_exporter": "python",
   "pygments_lexer": "ipython3",
   "version": "3.11.11"
  }
 },
 "nbformat": 4,
 "nbformat_minor": 5
}
